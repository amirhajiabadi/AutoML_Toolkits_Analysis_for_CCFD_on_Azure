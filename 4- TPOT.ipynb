{
 "cells": [
  {
   "cell_type": "code",
   "execution_count": 1,
   "id": "416dc8f0",
   "metadata": {},
   "outputs": [],
   "source": [
    "# pip install tpot"
   ]
  },
  {
   "cell_type": "code",
   "execution_count": 2,
   "id": "b30eb612",
   "metadata": {},
   "outputs": [],
   "source": [
    "import time\n",
    "start_time = time.time()\n",
    "\n",
    "from sklearn.model_selection import train_test_split\n",
    "from tpot import TPOTClassifier\n",
    "import time\n",
    "from sklearn.metrics import precision_score, recall_score, f1_score, confusion_matrix"
   ]
  },
  {
   "cell_type": "code",
   "execution_count": 3,
   "id": "14807158",
   "metadata": {},
   "outputs": [],
   "source": [
    "# azureml-core of version 1.0.72 or higher is required\n",
    "# azureml-dataprep[pandas] of version 1.1.34 or higher is required\n",
    "from azureml.core import Workspace, Dataset\n",
    "\n",
    "subscription_id = '2f5a6780-2fed-47cc-a89a-efd6b03243cc'\n",
    "resource_group = 'ml_for_ccfd'\n",
    "workspace_name = 'ml_for_ccfd_ws'\n",
    "\n",
    "workspace = Workspace(subscription_id, resource_group, workspace_name)\n",
    "\n",
    "dataset = Dataset.get_by_name(workspace, name='Capstone_CCFD')\n",
    "df=dataset.to_pandas_dataframe()"
   ]
  },
  {
   "cell_type": "code",
   "execution_count": 4,
   "id": "8e3d68cb",
   "metadata": {},
   "outputs": [],
   "source": [
    "problem_type = 'binary'\n",
    "target_column = 'Class'  \n",
    "\n",
    "X = df.drop(columns=[target_column])\n",
    "y = df[target_column]\n",
    "\n",
    "X_train, X_test, y_train, y_test = train_test_split(X, y, test_size=0.20, random_state=42)"
   ]
  },
  {
   "cell_type": "code",
   "execution_count": 5,
   "id": "289accb0",
   "metadata": {},
   "outputs": [
    {
     "name": "stdout",
     "output_type": "stream",
     "text": [
      "Best pipeline: ExtraTreesClassifier(input_matrix, bootstrap=False, criterion=gini, max_features=0.4, min_samples_leaf=1, min_samples_split=6, n_estimators=100)\n",
      "Number of samples in the test set: 56962 \n",
      "\n",
      "\n",
      "AutoML Workflow Runtime: 10464.44 seconds\n"
     ]
    }
   ],
   "source": [
    "tpot = TPOTClassifier(generations=5, population_size=20, verbosity=1, random_state=42)\n",
    "\n",
    "tpot.fit(X_train, y_train)\n",
    "end_time = time.time()\n",
    "\n",
    "num_samples_test = len(y_test)\n",
    "print(f\"Number of samples in the test set: {num_samples_test} \\n\")\n",
    "\n",
    "Workflow_Runtime = end_time - start_time\n",
    "print(f\"\\nAutoML Workflow Runtime: {Workflow_Runtime:.2f} seconds\")"
   ]
  },
  {
   "cell_type": "code",
   "execution_count": 6,
   "id": "929177e2",
   "metadata": {},
   "outputs": [
    {
     "name": "stdout",
     "output_type": "stream",
     "text": [
      "Number of samples in the test set: 56962 \n",
      "\n",
      "Evaluation Metrics on Test Data:\n",
      "Precision: 0.9506\n",
      "Recall: 0.7857\n",
      "F1-Score: 0.8603\n",
      "\n",
      "Confusion Matrix:\n",
      "[[56860     4]\n",
      " [   21    77]]\n",
      "\n",
      "Prediction Time: 0.61 seconds\n"
     ]
    }
   ],
   "source": [
    "start_time = time.time()\n",
    "y_predicted = tpot.predict(X_test)\n",
    "end_time = time.time()\n",
    "\n",
    "precision = precision_score(y_test, y_predicted)\n",
    "recall = recall_score(y_test, y_predicted)\n",
    "f1 = f1_score(y_test, y_predicted)\n",
    "\n",
    "confusion_matrix_result = confusion_matrix(y_test, y_predicted)\n",
    "\n",
    "num_samples_test = len(y_test)\n",
    "print(f\"Number of samples in the test set: {num_samples_test} \\n\")\n",
    "\n",
    "print(\"Evaluation Metrics on Test Data:\")\n",
    "print(f\"Precision: {precision:.4f}\")\n",
    "print(f\"Recall: {recall:.4f}\")\n",
    "print(f\"F1-Score: {f1:.4f}\\n\")\n",
    "\n",
    "print(\"Confusion Matrix:\")\n",
    "print(confusion_matrix_result)\n",
    "\n",
    "Prediction_Time = end_time - start_time\n",
    "print(f\"\\nPrediction Time: {Prediction_Time:.2f} seconds\")"
   ]
  },
  {
   "cell_type": "code",
   "execution_count": 7,
   "id": "4babd396",
   "metadata": {},
   "outputs": [
    {
     "name": "stdout",
     "output_type": "stream",
     "text": [
      "Number of samples in the test set: 56962 \n",
      "\n",
      "\n",
      "Prediction Time: 0.61 seconds\n"
     ]
    },
    {
     "data": {
      "image/png": "[encoded data removed]",
      "text/plain": [
       "<Figure size 800x600 with 1 Axes>"
      ]
     },
     "metadata": {},
     "output_type": "display_data"
    }
   ],
   "source": [
    "num_samples_test = len(y_test)\n",
    "print(f\"Number of samples in the test set: {num_samples_test} \\n\")\n",
    "\n",
    "Prediction_Time = end_time - start_time\n",
    "print(f\"\\nPrediction Time: {Prediction_Time:.2f} seconds\")\n",
    "\n",
    "import numpy as np\n",
    "import matplotlib.pyplot as plt\n",
    "import seaborn as sns\n",
    "from sklearn.metrics import confusion_matrix\n",
    "from matplotlib.colors import LinearSegmentedColormap\n",
    "\n",
    "plt.rcParams['font.sans-serif'] = 'DejaVu Sans'\n",
    "\n",
    "TN = confusion_matrix_result[0][0]\n",
    "TP = confusion_matrix_result[1][1]\n",
    "FP = confusion_matrix_result[0][1]\n",
    "FN=confusion_matrix_result[1][0]\n",
    "\n",
    "confusion_matrix_data = np.array([[TN, FP], [FN, TP]])\n",
    "tn, fp, fn, tp = confusion_matrix_data.ravel()\n",
    "\n",
    "accuracy = (tp + tn) / (tp + tn + fp + fn)\n",
    "precision = tp / (tp + fp)\n",
    "recall = tp / (tp + fn)\n",
    "f1 = 2 * (precision * recall) / (precision + recall)\n",
    "\n",
    "fig, ax = plt.subplots(figsize=(8, 6))\n",
    "\n",
    "colors = [(0.95, 0.95, 0.95), (0.1, 0.5, 0.1)]\n",
    "cmap = LinearSegmentedColormap.from_list('Custom', colors, len(colors))\n",
    "\n",
    "sns.heatmap(confusion_matrix_data, annot=True, fmt='.1f', cmap=cmap, ax=ax, cbar=False)\n",
    "ax.set_xlabel('Predicted')\n",
    "ax.set_ylabel('Actual')\n",
    "ax.set_title('Confusion Matrix')\n",
    "\n",
    "plt.show()"
   ]
  },
  {
   "cell_type": "code",
   "execution_count": null,
   "id": "637329af",
   "metadata": {},
   "outputs": [],
   "source": []
  }
 ],
 "metadata": {
  "kernelspec": {
   "display_name": "Python 3.8 - Pytorch and Tensorflow",
   "language": "python",
   "name": "python38-azureml-pt-tf"
  },
  "language_info": {
   "codemirror_mode": {
    "name": "ipython",
    "version": 3
   },
   "file_extension": ".py",
   "mimetype": "text/x-python",
   "name": "python",
   "nbconvert_exporter": "python",
   "pygments_lexer": "ipython3",
   "version": "3.8.5"
  }
 },
 "nbformat": 4,
 "nbformat_minor": 5
}
