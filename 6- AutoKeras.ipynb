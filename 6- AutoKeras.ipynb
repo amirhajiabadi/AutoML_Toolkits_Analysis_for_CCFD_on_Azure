{
 "cells": [
  {
   "cell_type": "code",
   "execution_count": 1,
   "id": "ca46fdfe",
   "metadata": {},
   "outputs": [],
   "source": [
    "# pip install autokeras"
   ]
  },
  {
   "cell_type": "code",
   "execution_count": 2,
   "id": "609e39d1",
   "metadata": {},
   "outputs": [],
   "source": [
    "# azureml-core of version 1.0.72 or higher is required\n",
    "# azureml-dataprep[pandas] of version 1.1.34 or higher is required\n",
    "from azureml.core import Workspace, Dataset\n",
    "\n",
    "subscription_id = '2f5a6780-2fed-47cc-a89a-efd6b03243cc'\n",
    "resource_group = 'ml_for_ccfd'\n",
    "workspace_name = 'ml_for_ccfd_ws'\n",
    "\n",
    "workspace = Workspace(subscription_id, resource_group, workspace_name)\n",
    "\n",
    "dataset = Dataset.get_by_name(workspace, name='Capstone_CCFD')\n",
    "df=dataset.to_pandas_dataframe()"
   ]
  },
  {
   "cell_type": "code",
   "execution_count": 3,
   "id": "96a5a701",
   "metadata": {},
   "outputs": [
    {
     "name": "stdout",
     "output_type": "stream",
     "text": [
      "Trial 10 Complete [00h 01m 46s]\n",
      "val_accuracy: 0.9994071125984192\n",
      "\n",
      "Best val_accuracy So Far: 0.9995608329772949\n",
      "Total elapsed time: 00h 18m 41s\n",
      "Epoch 1/10\n",
      "7121/7121 [==============================] - 11s 1ms/step - loss: 0.0080 - accuracy: 0.9988\n",
      "Epoch 2/10\n",
      "7121/7121 [==============================] - 10s 1ms/step - loss: 0.0031 - accuracy: 0.9994\n",
      "Epoch 3/10\n",
      "7121/7121 [==============================] - 10s 1ms/step - loss: 0.0028 - accuracy: 0.9994\n",
      "Epoch 4/10\n",
      "7121/7121 [==============================] - 10s 1ms/step - loss: 0.0026 - accuracy: 0.9994\n",
      "Epoch 5/10\n",
      "7121/7121 [==============================] - 10s 1ms/step - loss: 0.0024 - accuracy: 0.9995\n",
      "Epoch 6/10\n",
      "7121/7121 [==============================] - 10s 1ms/step - loss: 0.0023 - accuracy: 0.9995\n",
      "Epoch 7/10\n",
      "7121/7121 [==============================] - 10s 1ms/step - loss: 0.0022 - accuracy: 0.9995\n",
      "Epoch 8/10\n",
      "7121/7121 [==============================] - 10s 1ms/step - loss: 0.0021 - accuracy: 0.9996\n",
      "Epoch 9/10\n",
      "7121/7121 [==============================] - 10s 1ms/step - loss: 0.0020 - accuracy: 0.9995\n",
      "Epoch 10/10\n",
      "7121/7121 [==============================] - 10s 1ms/step - loss: 0.0020 - accuracy: 0.9996\n"
     ]
    },
    {
     "name": "stderr",
     "output_type": "stream",
     "text": [
      "WARNING:absl:Found untraced functions such as _update_step_xla while saving (showing 1 of 1). These functions will not be directly callable after loading.\n"
     ]
    },
    {
     "name": "stdout",
     "output_type": "stream",
     "text": [
      "INFO:tensorflow:Assets written to: ./structured_data_classifier/best_model/assets\n"
     ]
    },
    {
     "name": "stderr",
     "output_type": "stream",
     "text": [
      "INFO:tensorflow:Assets written to: ./structured_data_classifier/best_model/assets\n"
     ]
    },
    {
     "data": {
      "text/plain": [
       "<keras.callbacks.History at 0x7f5db0f1ce80>"
      ]
     },
     "execution_count": 3,
     "metadata": {},
     "output_type": "execute_result"
    }
   ],
   "source": [
    "import time\n",
    "start_time = time.time()\n",
    "\n",
    "import numpy as np\n",
    "import pandas as pd\n",
    "import autokeras as ak\n",
    "from sklearn.model_selection import train_test_split\n",
    "from sklearn.metrics import accuracy_score, precision_score, recall_score, f1_score, confusion_matrix\n",
    "\n",
    "\n",
    "problem_type = 'binary'\n",
    "target_column = 'Class'\n",
    "\n",
    "X = df.drop(columns=[target_column])\n",
    "y = df[target_column]\n",
    "\n",
    "X_train, X_test, y_train, y_test = train_test_split(X, y, test_size=0.20, random_state=42)\n",
    "\n",
    "X_train_np = X_train.to_numpy()\n",
    "X_test_np = X_test.to_numpy()\n",
    "y_train_np = y_train.to_numpy()\n",
    "y_test_np = y_test.to_numpy()\n",
    "\n",
    "# Initialize AutoKeras classifier\n",
    "clf = ak.StructuredDataClassifier(max_trials=10, overwrite=True, loss='binary_crossentropy')\n",
    "\n",
    "clf.fit(X_train_np, y_train_np, epochs=10)"
   ]
  },
  {
   "cell_type": "code",
   "execution_count": 4,
   "id": "2262cd0b",
   "metadata": {},
   "outputs": [
    {
     "name": "stdout",
     "output_type": "stream",
     "text": [
      "Number of samples in the test set: 56962 \n",
      "\n",
      "\n",
      "AutoML Workflow Runtime: 1261.70 seconds\n"
     ]
    }
   ],
   "source": [
    "end_time = time.time()\n",
    "\n",
    "num_samples_test = len(y_test)\n",
    "print(f\"Number of samples in the test set: {num_samples_test} \\n\")\n",
    "\n",
    "Workflow_Runtime = end_time - start_time\n",
    "print(f\"\\nAutoML Workflow Runtime: {Workflow_Runtime:.2f} seconds\")"
   ]
  },
  {
   "cell_type": "code",
   "execution_count": 5,
   "id": "831d427d",
   "metadata": {},
   "outputs": [
    {
     "name": "stdout",
     "output_type": "stream",
     "text": [
      "1781/1781 [==============================] - 2s 953us/step\n",
      "1781/1781 [==============================] - 2s 953us/step\n",
      "Number of samples in the test set: 56962 \n",
      "\n",
      "\n",
      "Prediction Time: 4.95 seconds\n",
      "Evaluation Metrics on Test Data:\n",
      "Accuracy: 0.9994\n",
      "Precision: 0.8889\n",
      "Recall: 0.7347\n",
      "F1-Score: 0.8045\n",
      "\n",
      "Confusion Matrix:\n",
      "[[56855     9]\n",
      " [   26    72]]\n",
      "\n",
      "Execution time: 5.12 seconds\n"
     ]
    }
   ],
   "source": [
    "start_time = time.time()\n",
    "y_predicted = clf.predict(X_test_np)\n",
    "end_time = time.time()\n",
    "\n",
    "accuracy = accuracy_score(y_test_np, y_predicted)\n",
    "precision = precision_score(y_test_np, y_predicted)\n",
    "recall = recall_score(y_test_np, y_predicted)\n",
    "f1 = f1_score(y_test_np, y_predicted)\n",
    "\n",
    "confusion_matrix_result = confusion_matrix(y_test_np, y_predicted)\n",
    "\n",
    "num_samples_test = len(y_test)\n",
    "print(f\"Number of samples in the test set: {num_samples_test} \\n\")\n",
    "\n",
    "Prediction_Time = end_time - start_time\n",
    "print(f\"\\nPrediction Time: {Prediction_Time:.2f} seconds \\n\")\n",
    "\n",
    "print(\"Evaluation Metrics on Test Data:\")\n",
    "print(f\"Accuracy: {accuracy:.4f}\")\n",
    "print(f\"Precision: {precision:.4f}\")\n",
    "print(f\"Recall: {recall:.4f}\")\n",
    "print(f\"F1-Score: {f1:.4f}\\n\")\n",
    "\n",
    "print(\"Confusion Matrix:\")\n",
    "print(confusion_matrix_result)"
   ]
  },
  {
   "cell_type": "code",
   "execution_count": 6,
   "id": "0c9c09f5",
   "metadata": {},
   "outputs": [
    {
     "name": "stdout",
     "output_type": "stream",
     "text": [
      "Number of samples in the test set: 56962 \n",
      "\n",
      "\n",
      "Prediction Time: 5.12 seconds\n"
     ]
    },
    {
     "data": {
      "image/png": "[encoded data removed]",
      "text/plain": [
       "<Figure size 800x600 with 1 Axes>"
      ]
     },
     "metadata": {},
     "output_type": "display_data"
    }
   ],
   "source": [
    "import numpy as np\n",
    "import matplotlib.pyplot as plt\n",
    "import seaborn as sns\n",
    "from sklearn.metrics import confusion_matrix\n",
    "from matplotlib.colors import LinearSegmentedColormap\n",
    "\n",
    "num_samples_test = len(y_test)\n",
    "print(f\"Number of samples in the test set: {num_samples_test} \\n\")\n",
    "\n",
    "Prediction_Time = end_time - start_time\n",
    "print(f\"\\nPrediction Time: {Prediction_Time:.2f} seconds\")\n",
    "\n",
    "plt.rcParams['font.sans-serif'] = 'DejaVu Sans'\n",
    "\n",
    "TN = confusion_matrix_result[0][0]\n",
    "TP = confusion_matrix_result[1][1]\n",
    "FP = confusion_matrix_result[0][1]\n",
    "FN=confusion_matrix_result[1][0]\n",
    "\n",
    "confusion_matrix_data = np.array([[TN, FP], [FN, TP]])\n",
    "tn, fp, fn, tp = confusion_matrix_data.ravel()\n",
    "\n",
    "accuracy = (tp + tn) / (tp + tn + fp + fn)\n",
    "precision = tp / (tp + fp)\n",
    "recall = tp / (tp + fn)\n",
    "f1 = 2 * (precision * recall) / (precision + recall)\n",
    "\n",
    "fig, ax = plt.subplots(figsize=(8, 6))\n",
    "\n",
    "colors = [(0.95, 0.95, 0.95), (0.1, 0.5, 0.1)]\n",
    "cmap = LinearSegmentedColormap.from_list('Custom', colors, len(colors))\n",
    "\n",
    "sns.heatmap(confusion_matrix_data, annot=True, fmt='.1f', cmap=cmap, ax=ax, cbar=False)\n",
    "ax.set_xlabel('Predicted')\n",
    "ax.set_ylabel('Actual')\n",
    "ax.set_title('Confusion Matrix')\n",
    "\n",
    "plt.show()"
   ]
  },
  {
   "cell_type": "code",
   "execution_count": null,
   "id": "539bd812",
   "metadata": {},
   "outputs": [],
   "source": []
  }
 ],
 "metadata": {
  "kernelspec": {
   "display_name": "Python 3.8 - Pytorch and Tensorflow",
   "language": "python",
   "name": "python38-azureml-pt-tf"
  },
  "language_info": {
   "codemirror_mode": {
    "name": "ipython",
    "version": 3
   },
   "file_extension": ".py",
   "mimetype": "text/x-python",
   "name": "python",
   "nbconvert_exporter": "python",
   "pygments_lexer": "ipython3",
   "version": "3.8.5"
  }
 },
 "nbformat": 4,
 "nbformat_minor": 5
}
