{
 "cells": [
  {
   "cell_type": "code",
   "execution_count": 1,
   "id": "31263e98",
   "metadata": {},
   "outputs": [],
   "source": [
    "# pip install auto-sklearn"
   ]
  },
  {
   "cell_type": "code",
   "execution_count": 2,
   "id": "25f55fcf",
   "metadata": {},
   "outputs": [],
   "source": [
    "# azureml-core of version 1.0.72 or higher is required\n",
    "# azureml-dataprep[pandas] of version 1.1.34 or higher is required\n",
    "from azureml.core import Workspace, Dataset\n",
    "\n",
    "subscription_id = '2f5a6780-2fed-47cc-a89a-efd6b03243cc'\n",
    "resource_group = 'ml_for_ccfd'\n",
    "workspace_name = 'ml_for_ccfd_ws'\n",
    "\n",
    "workspace = Workspace(subscription_id, resource_group, workspace_name)\n",
    "\n",
    "dataset = Dataset.get_by_name(workspace, name='Capstone_CCFD')\n",
    "df=dataset.to_pandas_dataframe()"
   ]
  },
  {
   "cell_type": "code",
   "execution_count": 3,
   "id": "cd60266e",
   "metadata": {},
   "outputs": [],
   "source": [
    "import time\n",
    "start_time = time.time()\n",
    "\n",
    "import autosklearn.classification\n",
    "import pandas as pd\n",
    "from sklearn.model_selection import train_test_split\n",
    "from sklearn.metrics import accuracy_score, precision_score, recall_score, f1_score, confusion_matrix"
   ]
  },
  {
   "cell_type": "code",
   "execution_count": 4,
   "id": "fe289d33",
   "metadata": {},
   "outputs": [],
   "source": [
    "problem_type = 'binary'\n",
    "target_column = 'Class'  \n",
    "\n",
    "X = df.drop(columns=[target_column])\n",
    "y = df[target_column]\n",
    "\n",
    "X_train, X_test, y_train, y_test = train_test_split(X, y, test_size=0.20, random_state=42)"
   ]
  },
  {
   "cell_type": "code",
   "execution_count": 5,
   "id": "0504252e",
   "metadata": {
    "scrolled": false
   },
   "outputs": [
    {
     "name": "stderr",
     "output_type": "stream",
     "text": [
      "/tmp/ipykernel_43230/2082027125.py:1: DeprecationWarning: `ensemble_size` has been deprecated, please use `ensemble_kwargs = {'ensemble_size': 50}`. Inserting `ensemble_size` into `ensemble_kwargs` for now. `ensemble_size` will be removed in auto-sklearn 0.16.\n",
      "  automl = autosklearn.classification.AutoSklearnClassifier(\n"
     ]
    },
    {
     "name": "stdout",
     "output_type": "stream",
     "text": [
      "\n",
      "AutoML Workflow Runtime: 3603.92 seconds\n"
     ]
    }
   ],
   "source": [
    "automl = autosklearn.classification.AutoSklearnClassifier(\n",
    "    time_left_for_this_task=3600,     # Time limit for the search: 1 hour (3600 seconds)\n",
    "    per_run_time_limit=300,           # Time limit for a single model run: 5 minutes (300 seconds)\n",
    "    ensemble_size=50,                 # Ensemble size: 50 models\n",
    "    metric=autosklearn.metrics.f1_macro,  # F1 Macro for multi-class or imbalanced classification problems\n",
    "    n_jobs=-1                         # Use all available cores\n",
    ")\n",
    "\n",
    "automl.fit(X_train, y_train)\n",
    "end_time = time.time()\n",
    "\n",
    "Workflow_Runtime = end_time - start_time\n",
    "print(f\"\\nAutoML Workflow Runtime: {Workflow_Runtime:.2f} seconds\")"
   ]
  },
  {
   "cell_type": "code",
   "execution_count": 6,
   "id": "e0de1961",
   "metadata": {},
   "outputs": [
    {
     "name": "stdout",
     "output_type": "stream",
     "text": [
      "Number of samples in the test set: 56962 \n",
      "\n",
      "\n",
      "Prediction Time: 13.43 seconds \n",
      "\n",
      "Number of samples in the test set: 56962 \n",
      "\n",
      "Evaluation Metrics on Test Data:\n",
      "Accuracy: 0.9997\n",
      "Precision: 0.9759\n",
      "Recall: 0.8265\n",
      "F1-Score: 0.8950\n",
      "\n",
      "Confusion Matrix:\n",
      "[[56862     2]\n",
      " [   17    81]]\n"
     ]
    }
   ],
   "source": [
    "start_time = time.time()\n",
    "y_predicted = automl.predict(X_test)\n",
    "end_time = time.time()\n",
    "\n",
    "num_samples_test = len(y_test)\n",
    "print(f\"Number of samples in the test set: {num_samples_test} \\n\")\n",
    "\n",
    "Prediction_Time = end_time - start_time\n",
    "print(f\"\\nPrediction Time: {Prediction_Time:.2f} seconds \\n\")\n",
    "\n",
    "accuracy = accuracy_score(y_test, y_predicted)\n",
    "precision = precision_score(y_test, y_predicted)\n",
    "recall = recall_score(y_test, y_predicted)\n",
    "f1 = f1_score(y_test, y_predicted)\n",
    "\n",
    "confusion_matrix_result = confusion_matrix(y_test, y_predicted)\n",
    "\n",
    "print(\"Evaluation Metrics on Test Data:\")\n",
    "print(f\"Accuracy: {accuracy:.4f}\")\n",
    "print(f\"Precision: {precision:.4f}\")\n",
    "print(f\"Recall: {recall:.4f}\")\n",
    "print(f\"F1-Score: {f1:.4f}\\n\")\n",
    "\n",
    "print(\"Confusion Matrix:\")\n",
    "print(confusion_matrix_result)"
   ]
  },
  {
   "cell_type": "code",
   "execution_count": 7,
   "id": "2051ffcb",
   "metadata": {},
   "outputs": [
    {
     "name": "stdout",
     "output_type": "stream",
     "text": [
      "Number of samples in the test set: 56962 \n",
      "\n",
      "\n",
      "Prediction Time: 13.43 seconds \n",
      "\n"
     ]
    },
    {
     "data": {
      "image/png": "[encoded data removed]",
      "text/plain": [
       "<Figure size 800x600 with 1 Axes>"
      ]
     },
     "metadata": {},
     "output_type": "display_data"
    }
   ],
   "source": [
    "import numpy as np\n",
    "import matplotlib.pyplot as plt\n",
    "import seaborn as sns\n",
    "from sklearn.metrics import confusion_matrix\n",
    "from matplotlib.colors import LinearSegmentedColormap\n",
    "\n",
    "num_samples_test = len(y_test)\n",
    "print(f\"Number of samples in the test set: {num_samples_test} \\n\")\n",
    "\n",
    "Prediction_Time = end_time - start_time\n",
    "print(f\"\\nPrediction Time: {Prediction_Time:.2f} seconds \\n\")\n",
    "\n",
    "plt.rcParams['font.sans-serif'] = 'DejaVu Sans'\n",
    "\n",
    "TN = confusion_matrix_result[0][0]\n",
    "TP = confusion_matrix_result[1][1]\n",
    "FP = confusion_matrix_result[0][1]\n",
    "FN=confusion_matrix_result[1][0]\n",
    "\n",
    "confusion_matrix_data = np.array([[TN, FP], [FN, TP]])\n",
    "tn, fp, fn, tp = confusion_matrix_data.ravel()\n",
    "\n",
    "accuracy = (tp + tn) / (tp + tn + fp + fn)\n",
    "precision = tp / (tp + fp)\n",
    "recall = tp / (tp + fn)\n",
    "f1 = 2 * (precision * recall) / (precision + recall)\n",
    "\n",
    "fig, ax = plt.subplots(figsize=(8, 6))\n",
    "\n",
    "colors = [(0.95, 0.95, 0.95), (0.1, 0.5, 0.1)]\n",
    "cmap = LinearSegmentedColormap.from_list('Custom', colors, len(colors))\n",
    "\n",
    "sns.heatmap(confusion_matrix_data, annot=True, fmt='.1f', cmap=cmap, ax=ax, cbar=False)\n",
    "ax.set_xlabel('Predicted')\n",
    "ax.set_ylabel('Actual')\n",
    "ax.set_title('Confusion Matrix')\n",
    "\n",
    "plt.show()"
   ]
  },
  {
   "cell_type": "code",
   "execution_count": null,
   "id": "58c0d5a5",
   "metadata": {},
   "outputs": [],
   "source": []
  }
 ],
 "metadata": {
  "kernelspec": {
   "display_name": "Python 3.8 - Pytorch and Tensorflow",
   "language": "python",
   "name": "python38-azureml-pt-tf"
  },
  "language_info": {
   "codemirror_mode": {
    "name": "ipython",
    "version": 3
   },
   "file_extension": ".py",
   "mimetype": "text/x-python",
   "name": "python",
   "nbconvert_exporter": "python",
   "pygments_lexer": "ipython3",
   "version": "3.8.5"
  }
 },
 "nbformat": 4,
 "nbformat_minor": 5
}
