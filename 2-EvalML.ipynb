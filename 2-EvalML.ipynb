{
 "cells": [
  {
   "cell_type": "code",
   "execution_count": 1,
   "id": "843ed5f0",
   "metadata": {},
   "outputs": [],
   "source": [
    "# pip install evalml"
   ]
  },
  {
   "cell_type": "code",
   "execution_count": 2,
   "id": "1d9d8fc0",
   "metadata": {},
   "outputs": [],
   "source": [
    "import evalml\n",
    "from evalml import AutoMLSearch\n",
    "from evalml.data_checks import DataCheckActionCode\n",
    "from sklearn.model_selection import train_test_split\n",
    "from sklearn.metrics import accuracy_score, precision_score, recall_score, f1_score, confusion_matrix\n",
    "import time"
   ]
  },
  {
   "cell_type": "code",
   "execution_count": 3,
   "id": "0880db3d",
   "metadata": {},
   "outputs": [],
   "source": [
    "# azureml-core of version 1.0.72 or higher is required\n",
    "# azureml-dataprep[pandas] of version 1.1.34 or higher is required\n",
    "from azureml.core import Workspace, Dataset\n",
    "\n",
    "subscription_id = '2f5a6780-2fed-47cc-a89a-efd6b03243cc'\n",
    "resource_group = 'ml_for_ccfd'\n",
    "workspace_name = 'ml_for_ccfd_ws'\n",
    "\n",
    "workspace = Workspace(subscription_id, resource_group, workspace_name)\n",
    "\n",
    "dataset = Dataset.get_by_name(workspace, name='Capstone_CCFD')\n",
    "df=dataset.to_pandas_dataframe()"
   ]
  },
  {
   "cell_type": "code",
   "execution_count": 4,
   "id": "33e1ffab",
   "metadata": {
    "scrolled": false
   },
   "outputs": [
    {
     "data": {
      "text/plain": [
       "pipeline = BinaryClassificationPipeline(component_graph={'Label Encoder': ['Label Encoder', 'X', 'y'], 'Imputer': ['Imputer', 'X', 'Label Encoder.y'], 'Undersampler': ['Undersampler', 'Imputer.x', 'Label Encoder.y'], 'Select Columns Transformer': ['Select Columns Transformer', 'Undersampler.x', 'Undersampler.y'], 'XGBoost Classifier': ['XGBoost Classifier', 'Select Columns Transformer.x', 'Undersampler.y']}, parameters={'Label Encoder':{'positive_label': None}, 'Imputer':{'categorical_impute_strategy': 'most_frequent', 'numeric_impute_strategy': 'mean', 'boolean_impute_strategy': 'most_frequent', 'categorical_fill_value': None, 'numeric_fill_value': None, 'boolean_fill_value': None}, 'Undersampler':{'sampling_ratio': 0.25, 'min_samples': 100, 'min_percentage': 0.1, 'sampling_ratio_dict': None}, 'Select Columns Transformer':{'columns': ['V1', 'V4', 'V7', 'V8', 'V9', 'V10', 'V11', 'V12', 'V14', 'V16', 'V17', 'V18', 'V19', 'V20', 'V26']}, 'XGBoost Classifier':{'eta': 0.1, 'max_depth': 6, 'min_child_weight': 1, 'n_estimators': 100, 'n_jobs': -1, 'eval_metric': 'logloss'}}, random_seed=0)"
      ]
     },
     "execution_count": 4,
     "metadata": {},
     "output_type": "execute_result"
    }
   ],
   "source": [
    "start_time = time.time()\n",
    "\n",
    "problem_type = 'binary'\n",
    "target_column = 'Class'  \n",
    "\n",
    "X = df.drop(columns=[target_column])\n",
    "y = df[target_column]\n",
    "\n",
    "X_train, X_test, y_train, y_test = train_test_split(X, y, test_size=0.20, random_state=42)\n",
    "\n",
    "automl = evalml.AutoMLSearch(X_train=X_train, y_train=y_train, problem_type=problem_type)\n",
    "\n",
    "automl.search()\n",
    "\n",
    "best_pipeline = automl.best_pipeline\n",
    "\n",
    "best_pipeline.fit(X_train, y_train)"
   ]
  },
  {
   "cell_type": "code",
   "execution_count": 5,
   "id": "3b78ae24",
   "metadata": {},
   "outputs": [
    {
     "name": "stdout",
     "output_type": "stream",
     "text": [
      "Number of samples in the test set: 56962 \n",
      "\n",
      "\n",
      "AutoML Workflow Runtime: 28.96 seconds\n"
     ]
    }
   ],
   "source": [
    "end_time = time.time()\n",
    "\n",
    "num_samples_test = len(y_test)\n",
    "print(f\"Number of samples in the test set: {num_samples_test} \\n\")\n",
    "\n",
    "Workflow_Runtime = end_time - start_time\n",
    "print(f\"\\nAutoML Workflow Runtime: {Workflow_Runtime:.2f} seconds\")"
   ]
  },
  {
   "cell_type": "code",
   "execution_count": 6,
   "id": "c0e62b81",
   "metadata": {},
   "outputs": [
    {
     "name": "stdout",
     "output_type": "stream",
     "text": [
      "Number of samples in the test set: 56962 \n",
      "\n",
      "\n",
      "Prediction Time: 0.35 seconds\n",
      "Evaluation Metrics on Test Data:\n",
      "Accuracy: 0.9994\n",
      "Precision: 0.8333\n",
      "Recall: 0.8163\n",
      "F1-Score: 0.8247\n",
      "\n",
      "Confusion Matrix:\n",
      "[[56848    16]\n",
      " [   18    80]]\n"
     ]
    }
   ],
   "source": [
    "start_time = time.time()\n",
    "y_predicted = best_pipeline.predict(X_test)\n",
    "end_time = time.time()\n",
    "\n",
    "accuracy = accuracy_score(y_test, y_predicted)\n",
    "precision = precision_score(y_test, y_predicted)\n",
    "recall = recall_score(y_test, y_predicted)\n",
    "f1 = f1_score(y_test, y_predicted)\n",
    "\n",
    "confusion_matrix_result = confusion_matrix(y_test, y_predicted)\n",
    "\n",
    "num_samples_test = len(y_test)\n",
    "print(f\"Number of samples in the test set: {num_samples_test} \\n\")\n",
    "\n",
    "Prediction_Time = end_time - start_time\n",
    "print(f\"\\nPrediction Time: {Prediction_Time:.2f} seconds \\n\")\n",
    "\n",
    "print(\"Evaluation Metrics on Test Data:\")\n",
    "print(f\"Accuracy: {accuracy:.4f}\")\n",
    "print(f\"Precision: {precision:.4f}\")\n",
    "print(f\"Recall: {recall:.4f}\")\n",
    "print(f\"F1-Score: {f1:.4f}\\n\")\n",
    "\n",
    "print(\"Confusion Matrix:\")\n",
    "print(confusion_matrix_result)"
   ]
  },
  {
   "cell_type": "code",
   "execution_count": 7,
   "id": "0671040c",
   "metadata": {},
   "outputs": [
    {
     "name": "stdout",
     "output_type": "stream",
     "text": [
      "Number of samples in the test set: 56962 \n",
      "\n",
      "\n",
      "Prediction Time: 0.35 seconds\n"
     ]
    },
    {
     "data": {
      "image/png": "[encoded data removed]",
      "text/plain": [
       "<Figure size 800x600 with 1 Axes>"
      ]
     },
     "metadata": {},
     "output_type": "display_data"
    }
   ],
   "source": [
    "num_samples_test = len(y_test)\n",
    "print(f\"Number of samples in the test set: {num_samples_test} \\n\")\n",
    "\n",
    "Prediction_Time = end_time - start_time\n",
    "print(f\"\\nPrediction Time: {Prediction_Time:.2f} seconds\")\n",
    "\n",
    "import numpy as np\n",
    "import matplotlib.pyplot as plt\n",
    "import seaborn as sns\n",
    "from sklearn.metrics import confusion_matrix\n",
    "from matplotlib.colors import LinearSegmentedColormap\n",
    "\n",
    "plt.rcParams['font.sans-serif'] = 'DejaVu Sans'\n",
    "\n",
    "TN = confusion_matrix_result[0][0]\n",
    "TP = confusion_matrix_result[1][1]\n",
    "FP = confusion_matrix_result[0][1]\n",
    "FN=confusion_matrix_result[1][0]\n",
    "\n",
    "confusion_matrix_data = np.array([[TN, FP], [FN, TP]])\n",
    "tn, fp, fn, tp = confusion_matrix_data.ravel()\n",
    "\n",
    "accuracy = (tp + tn) / (tp + tn + fp + fn)\n",
    "precision = tp / (tp + fp)\n",
    "recall = tp / (tp + fn)\n",
    "f1 = 2 * (precision * recall) / (precision + recall)\n",
    "\n",
    "fig, ax = plt.subplots(figsize=(8, 6))\n",
    "\n",
    "colors = [(0.95, 0.95, 0.95), (0.1, 0.5, 0.1)]\n",
    "cmap = LinearSegmentedColormap.from_list('Custom', colors, len(colors))\n",
    "\n",
    "sns.heatmap(confusion_matrix_data, annot=True, fmt='.1f', cmap=cmap, ax=ax, cbar=False)\n",
    "ax.set_xlabel('Predicted')\n",
    "ax.set_ylabel('Actual')\n",
    "ax.set_title('Confusion Matrix')\n",
    "\n",
    "plt.show()"
   ]
  },
  {
   "cell_type": "code",
   "execution_count": null,
   "id": "537227e1",
   "metadata": {},
   "outputs": [],
   "source": []
  },
  {
   "cell_type": "code",
   "execution_count": null,
   "id": "a4372062",
   "metadata": {},
   "outputs": [],
   "source": []
  }
 ],
 "metadata": {
  "kernelspec": {
   "display_name": "Python 3.8 - Pytorch and Tensorflow",
   "language": "python",
   "name": "python38-azureml-pt-tf"
  },
  "language_info": {
   "codemirror_mode": {
    "name": "ipython",
    "version": 3
   },
   "file_extension": ".py",
   "mimetype": "text/x-python",
   "name": "python",
   "nbconvert_exporter": "python",
   "pygments_lexer": "ipython3",
   "version": "3.8.5"
  }
 },
 "nbformat": 4,
 "nbformat_minor": 5
}
